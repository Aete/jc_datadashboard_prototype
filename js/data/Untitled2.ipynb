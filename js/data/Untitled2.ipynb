{
 "cells": [
  {
   "cell_type": "code",
   "execution_count": 166,
   "metadata": {},
   "outputs": [],
   "source": [
    "import pandas as pd\n",
    "import numpy as np\n",
    "import geopandas as gpd\n",
    "\n",
    "\n",
    "import matplotlib.pyplot as plt\n",
    "import seaborn as sns"
   ]
  },
  {
   "cell_type": "code",
   "execution_count": 167,
   "metadata": {},
   "outputs": [],
   "source": [
    "parks = gpd.read_file('park.geojson')"
   ]
  },
  {
   "cell_type": "code",
   "execution_count": 168,
   "metadata": {},
   "outputs": [
    {
     "data": {
      "text/html": [
       "<div>\n",
       "<style scoped>\n",
       "    .dataframe tbody tr th:only-of-type {\n",
       "        vertical-align: middle;\n",
       "    }\n",
       "\n",
       "    .dataframe tbody tr th {\n",
       "        vertical-align: top;\n",
       "    }\n",
       "\n",
       "    .dataframe thead th {\n",
       "        text-align: right;\n",
       "    }\n",
       "</style>\n",
       "<table border=\"1\" class=\"dataframe\">\n",
       "  <thead>\n",
       "    <tr style=\"text-align: right;\">\n",
       "      <th></th>\n",
       "      <th>area</th>\n",
       "      <th>park</th>\n",
       "      <th>4</th>\n",
       "      <th>acre</th>\n",
       "      <th>govt</th>\n",
       "      <th>x</th>\n",
       "      <th>geometry</th>\n",
       "    </tr>\n",
       "  </thead>\n",
       "  <tbody>\n",
       "    <tr>\n",
       "      <th>0</th>\n",
       "      <td>9959.83</td>\n",
       "      <td>FERRIS TRIANGLE PARK</td>\n",
       "      <td>6.796</td>\n",
       "      <td>0.229</td>\n",
       "      <td>CITY</td>\n",
       "      <td>6.051</td>\n",
       "      <td>POLYGON ((-74.09222 40.69879, -74.09196 40.698...</td>\n",
       "    </tr>\n",
       "    <tr>\n",
       "      <th>1</th>\n",
       "      <td>242400.55</td>\n",
       "      <td>HAMILTON PARK</td>\n",
       "      <td>6.903</td>\n",
       "      <td>5.565</td>\n",
       "      <td>CITY</td>\n",
       "      <td>6.181</td>\n",
       "      <td>POLYGON ((-74.04590 40.72839, -74.04409 40.728...</td>\n",
       "    </tr>\n",
       "    <tr>\n",
       "      <th>2</th>\n",
       "      <td>6465.72</td>\n",
       "      <td>FITZGERALD-HOLOTA PARK</td>\n",
       "      <td>6.873</td>\n",
       "      <td>0.148</td>\n",
       "      <td>CITY</td>\n",
       "      <td>6.189</td>\n",
       "      <td>POLYGON ((-74.04279 40.71982, -74.04278 40.720...</td>\n",
       "    </tr>\n",
       "    <tr>\n",
       "      <th>3</th>\n",
       "      <td>20007.63</td>\n",
       "      <td>SIXTEENTH STREET PLAYGROUND</td>\n",
       "      <td>6.922</td>\n",
       "      <td>0.459</td>\n",
       "      <td>CITY</td>\n",
       "      <td>6.189</td>\n",
       "      <td>POLYGON ((-74.04244 40.73313, -74.04208 40.733...</td>\n",
       "    </tr>\n",
       "    <tr>\n",
       "      <th>4</th>\n",
       "      <td>2693.35</td>\n",
       "      <td>BRAMHALL AVENUE MINI PARK</td>\n",
       "      <td>6.858</td>\n",
       "      <td>0.062</td>\n",
       "      <td>CITY</td>\n",
       "      <td>6.100</td>\n",
       "      <td>POLYGON ((-74.07463 40.71550, -74.07459 40.715...</td>\n",
       "    </tr>\n",
       "  </tbody>\n",
       "</table>\n",
       "</div>"
      ],
      "text/plain": [
       "        area                         park      4   acre  govt      x  \\\n",
       "0    9959.83         FERRIS TRIANGLE PARK  6.796  0.229  CITY  6.051   \n",
       "1  242400.55                HAMILTON PARK  6.903  5.565  CITY  6.181   \n",
       "2    6465.72       FITZGERALD-HOLOTA PARK  6.873  0.148  CITY  6.189   \n",
       "3   20007.63  SIXTEENTH STREET PLAYGROUND  6.922  0.459  CITY  6.189   \n",
       "4    2693.35    BRAMHALL AVENUE MINI PARK  6.858  0.062  CITY  6.100   \n",
       "\n",
       "                                            geometry  \n",
       "0  POLYGON ((-74.09222 40.69879, -74.09196 40.698...  \n",
       "1  POLYGON ((-74.04590 40.72839, -74.04409 40.728...  \n",
       "2  POLYGON ((-74.04279 40.71982, -74.04278 40.720...  \n",
       "3  POLYGON ((-74.04244 40.73313, -74.04208 40.733...  \n",
       "4  POLYGON ((-74.07463 40.71550, -74.07459 40.715...  "
      ]
     },
     "execution_count": 168,
     "metadata": {},
     "output_type": "execute_result"
    }
   ],
   "source": [
    "parks.head()"
   ]
  },
  {
   "cell_type": "code",
   "execution_count": 169,
   "metadata": {},
   "outputs": [],
   "source": [
    "def centerpoints_lat(x):\n",
    "    target_ = x.copy()\n",
    "    for i in range(len(x)):\n",
    "        if i == 0:\n",
    "            \n",
    "            target_[i] = target_[i].split(' ')\n",
    "            \n",
    "        else:\n",
    "            target_[i] = target_[i].split(' ')[1:]\n",
    "    target_ = np.array(target_)\n",
    "    for i in range(len(target_)):\n",
    "        try:\n",
    "            target_[i] = np.array(target_[i]).astype(float)\n",
    "        except:\n",
    "            target_[i] = np.array([np.nan,np.nan])\n",
    "    target_ = target_[:,1].astype(float)\n",
    "    center_lng = (max(target_) + min(target_))/2\n",
    "    return center_lng"
   ]
  },
  {
   "cell_type": "code",
   "execution_count": 170,
   "metadata": {},
   "outputs": [],
   "source": [
    "def centerpoints_lng(x):\n",
    "    target_ = x.copy()\n",
    "    for i in range(len(x)):\n",
    "        if i == 0:\n",
    "            print(target_[i])\n",
    "            target_[i] = target_[i].split(' ')\n",
    "        else:\n",
    "            target_[i] = target_[i].split(' ')[1:]\n",
    "    target_ = np.array(target_)\n",
    "    for i in range(len(target_)):\n",
    "        try:\n",
    "            target_[i] = np.array(target_[i]).astype(float)\n",
    "        except:\n",
    "            target_[i] = np.array([np.nan,np.nan])\n",
    "    target_ = target_[:,0].astype(float)\n",
    "    center_lng = (max(target_) + min(target_))/2\n",
    "    return center_lng"
   ]
  },
  {
   "cell_type": "code",
   "execution_count": 171,
   "metadata": {},
   "outputs": [
    {
     "data": {
      "text/plain": [
       "0     POLYGON ((-74.09221605926311 40.69878569118558...\n",
       "1     POLYGON ((-74.04589625230764 40.72839022682133...\n",
       "2     POLYGON ((-74.0427928877194 40.71982379096955,...\n",
       "3     POLYGON ((-74.04244101042865 40.73312546066197...\n",
       "4     POLYGON ((-74.07462706346956 40.71550429575202...\n",
       "                            ...                        \n",
       "81    POLYGON ((-74.06561580270672 40.72206597492038...\n",
       "82    POLYGON ((-74.06746453042302 40.73367810169124...\n",
       "83    POLYGON ((-74.07294822641809 40.71153096523942...\n",
       "84    POLYGON ((-74.04330022367508 40.74535853564802...\n",
       "85    POLYGON ((-74.03757587365496 40.71517395587072...\n",
       "Name: geometry, Length: 86, dtype: object"
      ]
     },
     "execution_count": 171,
     "metadata": {},
     "output_type": "execute_result"
    }
   ],
   "source": [
    "parks['geometry'] = parks['geometry'].astype(str)\n",
    "parks['geometry']"
   ]
  },
  {
   "cell_type": "code",
   "execution_count": 172,
   "metadata": {},
   "outputs": [
    {
     "data": {
      "text/plain": [
       "0     -74.09221605926311 40.69878569118558, -74.0919...\n",
       "1     -74.04589625230764 40.72839022682133, -74.0440...\n",
       "2     -74.0427928877194 40.71982379096955, -74.04278...\n",
       "3     -74.04244101042865 40.73312546066197, -74.0420...\n",
       "4     -74.07462706346956 40.71550429575202, -74.0745...\n",
       "                            ...                        \n",
       "81    -74.06561580270672 40.72206597492038, -74.0655...\n",
       "82    -74.06746453042302 40.73367810169124, -74.0673...\n",
       "83    -74.07294822641809 40.71153096523942, -74.0729...\n",
       "84    -74.04330022367508 40.74535853564802, -74.0426...\n",
       "85    -74.03757587365496 40.71517395587072, -74.0372...\n",
       "Name: geometry, Length: 86, dtype: object"
      ]
     },
     "execution_count": 172,
     "metadata": {},
     "output_type": "execute_result"
    }
   ],
   "source": [
    "parks['geometry'] = parks['geometry'].str[10:-3]\n",
    "parks['geometry']"
   ]
  },
  {
   "cell_type": "code",
   "execution_count": 173,
   "metadata": {},
   "outputs": [],
   "source": [
    "parks['geometry'] = parks['geometry'].astype(str)"
   ]
  },
  {
   "cell_type": "code",
   "execution_count": 174,
   "metadata": {},
   "outputs": [],
   "source": [
    "parks['geometry'] = parks['geometry'].str.split(',')"
   ]
  },
  {
   "cell_type": "code",
   "execution_count": 175,
   "metadata": {},
   "outputs": [
    {
     "data": {
      "text/plain": [
       "['-74.09196496014037', '40.69848696861669']"
      ]
     },
     "execution_count": 175,
     "metadata": {},
     "output_type": "execute_result"
    }
   ],
   "source": [
    "parks['geometry'].loc[0][1].split(' ')[1:]"
   ]
  },
  {
   "cell_type": "code",
   "execution_count": 176,
   "metadata": {},
   "outputs": [
    {
     "name": "stdout",
     "output_type": "stream",
     "text": [
      "-74.09221605926311 40.69878569118558\n",
      "-74.04589625230764 40.72839022682133\n",
      "-74.0427928877194 40.71982379096955\n",
      "-74.04244101042865 40.73312546066197\n",
      "-74.07462706346956 40.71550429575202\n",
      "-74.09457337279433 40.71096456990981\n",
      "-74.06866619595085 40.70021364331979\n",
      "-74.07068838271027 40.73462704307391\n",
      "-74.07630950500156 40.70425270387694\n",
      "-74.07204828718399 40.71442344942697\n",
      "-74.07342242630517 40.71592560347592\n",
      "-74.07382379377596 40.72537342323236\n",
      "-74.06780759182838 40.72530578048834\n",
      "-74.04747531964533 40.73817498821725\n",
      "-74.04283127522794 40.74304545321765\n",
      "-74.02975587700948 40.71939327915145\n",
      "-74.04189103037932 40.72591787860112\n",
      "-74.06667553977425 40.71261951752164\n",
      "-74.03377909303394 40.73228297025639\n",
      "-74.07128066687717 40.73430431611905\n",
      "-74.06728897161611 40.72025067445342\n",
      "-74.03254000121248 40.72014777946244\n",
      "-74.09055530186711 40.72460118700558\n",
      "-74.07276557621407 40.71534382994636\n",
      "-74.08567153968131 40.70136458867115\n",
      "-74.07846183528602 40.71329876396251\n",
      "-74.04958593091138 40.72649759221268\n",
      "-74.03044380818676 40.71706773919576\n",
      "-74.08517205657257 40.73040070622805\n",
      "-74.08518648878281 40.71127198543824\n",
      "-74.08075032243245 40.69766342498024\n",
      "-74.05873301641284 40.74716303788789\n",
      "-74.04768682598603 40.71852200463942\n",
      "-74.03466487124562 40.71258756352562\n",
      "-74.0903635811071 40.69727245647852\n",
      "-74.0462643575983 40.68931922971205\n",
      "-74.06386937647019 40.71439772469181\n",
      "-74.05389708330117 40.74368831906479\n",
      "-74.03748052193228 40.71566390931854\n",
      "-74.05664224943487 40.71969066770629\n",
      "-74.08885197194216 40.70239915222231\n",
      "-74.03236515108145 40.71699654402769\n",
      "-74.06633655321374 40.70040272893567\n",
      "-74.03824789036911 40.71243862278949\n",
      "-74.04365993593824 40.71808513070093\n",
      "-74.03634413244961 40.71278475606087\n",
      "-74.04260433341508 40.71543911296828\n",
      "-74.07579899521096 40.70737698493496\n",
      "-74.08742256984367 40.70768754763696\n",
      "-74.07471921088487 40.71221041373006\n",
      "-74.03278163806311 40.72684926216997\n",
      "-74.10221734719833 40.69707063012882\n",
      "-74.0523341259095 40.72819009770937\n",
      "-74.04706465024017 40.73803269586033\n",
      "-74.09717342630888 40.72633341508139\n",
      "-74.08522249287809 40.70070914557122\n",
      "-74.0683917257107 40.71363936900801\n",
      "-74.06627135769264 40.73040365935861\n",
      "-74.05625434529244 40.75341940749308\n",
      "-74.08636944244495 40.71582022714949\n",
      "-74.09534867902501 40.69417411374084\n",
      "-74.05225323570463 40.72575684672309\n",
      "-74.03812357001824 40.71573586187124\n",
      "-74.04615986516561 40.72007716193676\n",
      "-74.08110918474557 40.70718138982861\n",
      "-74.09805981889787 40.69095604604282\n",
      "-74.09593717830599 40.69977265018526\n",
      "-74.06713634693784 40.72015301461148\n",
      "-74.07246810177452 40.71129543119722\n",
      "-74.08711593042142 40.70474927897742\n",
      "-74.07017844997921 40.71624168748109\n",
      "-74.07130662704722 40.72944036194762\n",
      "-74.0784358395816 40.72410631332285\n",
      "-74.05685339292026 40.75228592310577\n",
      "-74.04186325471784 40.75136908922516\n",
      "-74.04368507825833 40.69803308227463\n",
      "-74.05896768385962 40.71292601974634\n",
      "-74.04242715803319 40.72227416277995\n",
      "-74.05167981284708 40.72297664463876\n",
      "-74.05030840187931 40.7169819618974\n",
      "-74.05177726134941 40.73239981003498\n",
      "-74.06561580270672 40.72206597492038\n",
      "-74.06746453042302 40.73367810169124\n",
      "-74.07294822641809 40.71153096523942\n",
      "-74.04330022367508 40.74535853564802\n",
      "-74.03757587365496 40.71517395587072\n"
     ]
    }
   ],
   "source": [
    "parks['center_lng'] =parks['geometry'].apply(lambda x:centerpoints_lng(x))"
   ]
  },
  {
   "cell_type": "code",
   "execution_count": 177,
   "metadata": {},
   "outputs": [],
   "source": [
    "parks['center_lat'] = parks['geometry'].apply(lambda x:centerpoints_lat(x))"
   ]
  },
  {
   "cell_type": "code",
   "execution_count": 179,
   "metadata": {},
   "outputs": [],
   "source": [
    "parks = parks[['park','center_lng','center_lat']]"
   ]
  },
  {
   "cell_type": "code",
   "execution_count": 180,
   "metadata": {},
   "outputs": [
    {
     "data": {
      "text/html": [
       "<div>\n",
       "<style scoped>\n",
       "    .dataframe tbody tr th:only-of-type {\n",
       "        vertical-align: middle;\n",
       "    }\n",
       "\n",
       "    .dataframe tbody tr th {\n",
       "        vertical-align: top;\n",
       "    }\n",
       "\n",
       "    .dataframe thead th {\n",
       "        text-align: right;\n",
       "    }\n",
       "</style>\n",
       "<table border=\"1\" class=\"dataframe\">\n",
       "  <thead>\n",
       "    <tr style=\"text-align: right;\">\n",
       "      <th></th>\n",
       "      <th>park</th>\n",
       "      <th>center_lng</th>\n",
       "      <th>center_lat</th>\n",
       "    </tr>\n",
       "  </thead>\n",
       "  <tbody>\n",
       "    <tr>\n",
       "      <th>0</th>\n",
       "      <td>FERRIS TRIANGLE PARK</td>\n",
       "      <td>-74.092192</td>\n",
       "      <td>40.698514</td>\n",
       "    </tr>\n",
       "    <tr>\n",
       "      <th>1</th>\n",
       "      <td>HAMILTON PARK</td>\n",
       "      <td>-74.045092</td>\n",
       "      <td>40.727655</td>\n",
       "    </tr>\n",
       "    <tr>\n",
       "      <th>2</th>\n",
       "      <td>FITZGERALD-HOLOTA PARK</td>\n",
       "      <td>-74.042400</td>\n",
       "      <td>40.719698</td>\n",
       "    </tr>\n",
       "    <tr>\n",
       "      <th>3</th>\n",
       "      <td>SIXTEENTH STREET PLAYGROUND</td>\n",
       "      <td>-74.042205</td>\n",
       "      <td>40.732904</td>\n",
       "    </tr>\n",
       "    <tr>\n",
       "      <th>4</th>\n",
       "      <td>BRAMHALL AVENUE MINI PARK</td>\n",
       "      <td>-74.074587</td>\n",
       "      <td>40.715429</td>\n",
       "    </tr>\n",
       "  </tbody>\n",
       "</table>\n",
       "</div>"
      ],
      "text/plain": [
       "                          park  center_lng  center_lat\n",
       "0         FERRIS TRIANGLE PARK  -74.092192   40.698514\n",
       "1                HAMILTON PARK  -74.045092   40.727655\n",
       "2       FITZGERALD-HOLOTA PARK  -74.042400   40.719698\n",
       "3  SIXTEENTH STREET PLAYGROUND  -74.042205   40.732904\n",
       "4    BRAMHALL AVENUE MINI PARK  -74.074587   40.715429"
      ]
     },
     "execution_count": 180,
     "metadata": {},
     "output_type": "execute_result"
    }
   ],
   "source": [
    "parks.head()"
   ]
  },
  {
   "cell_type": "code",
   "execution_count": 186,
   "metadata": {},
   "outputs": [],
   "source": [
    "parks.to_json('park_centerpoints.json',orient='index')"
   ]
  },
  {
   "cell_type": "code",
   "execution_count": null,
   "metadata": {},
   "outputs": [],
   "source": []
  }
 ],
 "metadata": {
  "kernelspec": {
   "display_name": "Python 3",
   "language": "python",
   "name": "python3"
  },
  "language_info": {
   "codemirror_mode": {
    "name": "ipython",
    "version": 3
   },
   "file_extension": ".py",
   "mimetype": "text/x-python",
   "name": "python",
   "nbconvert_exporter": "python",
   "pygments_lexer": "ipython3",
   "version": "3.7.5"
  }
 },
 "nbformat": 4,
 "nbformat_minor": 2
}
