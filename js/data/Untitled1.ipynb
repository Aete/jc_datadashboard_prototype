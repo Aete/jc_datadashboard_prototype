{
 "cells": [
  {
   "cell_type": "code",
   "execution_count": 1,
   "metadata": {},
   "outputs": [],
   "source": [
    "import geopandas as gpd\n",
    "import pandas as pd"
   ]
  },
  {
   "cell_type": "code",
   "execution_count": 3,
   "metadata": {},
   "outputs": [],
   "source": [
    "grid = gpd.read_file('jc_grid.geojson')"
   ]
  },
  {
   "cell_type": "code",
   "execution_count": 5,
   "metadata": {},
   "outputs": [],
   "source": [
    "grid = grid[['TARGET_FID','Id','Shape_Leng','Shape_Area','GeoID','geometry']]"
   ]
  },
  {
   "cell_type": "code",
   "execution_count": 11,
   "metadata": {},
   "outputs": [],
   "source": [
    "grid_scores = pd.read_csv('jc_grid_Scores_nov30.csv')"
   ]
  },
  {
   "cell_type": "code",
   "execution_count": 14,
   "metadata": {},
   "outputs": [
    {
     "data": {
      "text/html": [
       "<div>\n",
       "<style scoped>\n",
       "    .dataframe tbody tr th:only-of-type {\n",
       "        vertical-align: middle;\n",
       "    }\n",
       "\n",
       "    .dataframe tbody tr th {\n",
       "        vertical-align: top;\n",
       "    }\n",
       "\n",
       "    .dataframe thead th {\n",
       "        text-align: right;\n",
       "    }\n",
       "</style>\n",
       "<table border=\"1\" class=\"dataframe\">\n",
       "  <thead>\n",
       "    <tr style=\"text-align: right;\">\n",
       "      <th></th>\n",
       "      <th>grid_id</th>\n",
       "      <th>imp_percent</th>\n",
       "      <th>imp_score</th>\n",
       "      <th>flood_score</th>\n",
       "      <th>green_score</th>\n",
       "      <th>greenview_index</th>\n",
       "      <th>storwater_managed</th>\n",
       "      <th>treecountestimate</th>\n",
       "      <th>overall_score</th>\n",
       "    </tr>\n",
       "  </thead>\n",
       "  <tbody>\n",
       "    <tr>\n",
       "      <th>0</th>\n",
       "      <td>1</td>\n",
       "      <td>43.007936</td>\n",
       "      <td>4</td>\n",
       "      <td>0</td>\n",
       "      <td>NaN</td>\n",
       "      <td>NaN</td>\n",
       "      <td>0</td>\n",
       "      <td>0</td>\n",
       "      <td>1.333333</td>\n",
       "    </tr>\n",
       "    <tr>\n",
       "      <th>1</th>\n",
       "      <td>2</td>\n",
       "      <td>54.205350</td>\n",
       "      <td>3</td>\n",
       "      <td>1</td>\n",
       "      <td>NaN</td>\n",
       "      <td>NaN</td>\n",
       "      <td>0</td>\n",
       "      <td>0</td>\n",
       "      <td>1.333333</td>\n",
       "    </tr>\n",
       "    <tr>\n",
       "      <th>2</th>\n",
       "      <td>3</td>\n",
       "      <td>54.068938</td>\n",
       "      <td>3</td>\n",
       "      <td>1</td>\n",
       "      <td>NaN</td>\n",
       "      <td>NaN</td>\n",
       "      <td>0</td>\n",
       "      <td>0</td>\n",
       "      <td>1.333333</td>\n",
       "    </tr>\n",
       "    <tr>\n",
       "      <th>3</th>\n",
       "      <td>4</td>\n",
       "      <td>79.203148</td>\n",
       "      <td>2</td>\n",
       "      <td>1</td>\n",
       "      <td>0.0</td>\n",
       "      <td>17.946235</td>\n",
       "      <td>156800</td>\n",
       "      <td>196</td>\n",
       "      <td>1.000000</td>\n",
       "    </tr>\n",
       "    <tr>\n",
       "      <th>4</th>\n",
       "      <td>5</td>\n",
       "      <td>94.985259</td>\n",
       "      <td>0</td>\n",
       "      <td>1</td>\n",
       "      <td>NaN</td>\n",
       "      <td>NaN</td>\n",
       "      <td>0</td>\n",
       "      <td>0</td>\n",
       "      <td>0.333333</td>\n",
       "    </tr>\n",
       "  </tbody>\n",
       "</table>\n",
       "</div>"
      ],
      "text/plain": [
       "   grid_id  imp_percent  imp_score  flood_score  green_score  greenview_index  \\\n",
       "0        1    43.007936          4            0          NaN              NaN   \n",
       "1        2    54.205350          3            1          NaN              NaN   \n",
       "2        3    54.068938          3            1          NaN              NaN   \n",
       "3        4    79.203148          2            1          0.0        17.946235   \n",
       "4        5    94.985259          0            1          NaN              NaN   \n",
       "\n",
       "   storwater_managed  treecountestimate  overall_score  \n",
       "0                  0                  0       1.333333  \n",
       "1                  0                  0       1.333333  \n",
       "2                  0                  0       1.333333  \n",
       "3             156800                196       1.000000  \n",
       "4                  0                  0       0.333333  "
      ]
     },
     "execution_count": 14,
     "metadata": {},
     "output_type": "execute_result"
    }
   ],
   "source": [
    "grid_scores.head()"
   ]
  },
  {
   "cell_type": "code",
   "execution_count": 15,
   "metadata": {},
   "outputs": [
    {
     "data": {
      "text/html": [
       "<div>\n",
       "<style scoped>\n",
       "    .dataframe tbody tr th:only-of-type {\n",
       "        vertical-align: middle;\n",
       "    }\n",
       "\n",
       "    .dataframe tbody tr th {\n",
       "        vertical-align: top;\n",
       "    }\n",
       "\n",
       "    .dataframe thead th {\n",
       "        text-align: right;\n",
       "    }\n",
       "</style>\n",
       "<table border=\"1\" class=\"dataframe\">\n",
       "  <thead>\n",
       "    <tr style=\"text-align: right;\">\n",
       "      <th></th>\n",
       "      <th>TARGET_FID</th>\n",
       "      <th>Id</th>\n",
       "      <th>Shape_Leng</th>\n",
       "      <th>Shape_Area</th>\n",
       "      <th>GeoID</th>\n",
       "      <th>geometry</th>\n",
       "    </tr>\n",
       "  </thead>\n",
       "  <tbody>\n",
       "    <tr>\n",
       "      <th>0</th>\n",
       "      <td>1</td>\n",
       "      <td>0</td>\n",
       "      <td>2530.758569</td>\n",
       "      <td>385934.045109</td>\n",
       "      <td>1.0</td>\n",
       "      <td>POLYGON ((-74.05343 40.76242, -74.05548 40.762...</td>\n",
       "    </tr>\n",
       "    <tr>\n",
       "      <th>1</th>\n",
       "      <td>2</td>\n",
       "      <td>0</td>\n",
       "      <td>2655.536428</td>\n",
       "      <td>444097.228757</td>\n",
       "      <td>2.0</td>\n",
       "      <td>POLYGON ((-74.09057 40.73430, -74.09262 40.734...</td>\n",
       "    </tr>\n",
       "    <tr>\n",
       "      <th>2</th>\n",
       "      <td>3</td>\n",
       "      <td>0</td>\n",
       "      <td>2721.468967</td>\n",
       "      <td>450465.444325</td>\n",
       "      <td>3.0</td>\n",
       "      <td>POLYGON ((-74.10300 40.71478, -74.10505 40.714...</td>\n",
       "    </tr>\n",
       "    <tr>\n",
       "      <th>3</th>\n",
       "      <td>4</td>\n",
       "      <td>0</td>\n",
       "      <td>2721.468310</td>\n",
       "      <td>450465.184524</td>\n",
       "      <td>4.0</td>\n",
       "      <td>POLYGON ((-74.07227 40.70597, -74.07433 40.705...</td>\n",
       "    </tr>\n",
       "    <tr>\n",
       "      <th>4</th>\n",
       "      <td>5</td>\n",
       "      <td>0</td>\n",
       "      <td>2721.468310</td>\n",
       "      <td>450465.184524</td>\n",
       "      <td>5.0</td>\n",
       "      <td>POLYGON ((-74.06193 40.71898, -74.06398 40.718...</td>\n",
       "    </tr>\n",
       "  </tbody>\n",
       "</table>\n",
       "</div>"
      ],
      "text/plain": [
       "   TARGET_FID  Id   Shape_Leng     Shape_Area  GeoID  \\\n",
       "0           1   0  2530.758569  385934.045109    1.0   \n",
       "1           2   0  2655.536428  444097.228757    2.0   \n",
       "2           3   0  2721.468967  450465.444325    3.0   \n",
       "3           4   0  2721.468310  450465.184524    4.0   \n",
       "4           5   0  2721.468310  450465.184524    5.0   \n",
       "\n",
       "                                            geometry  \n",
       "0  POLYGON ((-74.05343 40.76242, -74.05548 40.762...  \n",
       "1  POLYGON ((-74.09057 40.73430, -74.09262 40.734...  \n",
       "2  POLYGON ((-74.10300 40.71478, -74.10505 40.714...  \n",
       "3  POLYGON ((-74.07227 40.70597, -74.07433 40.705...  \n",
       "4  POLYGON ((-74.06193 40.71898, -74.06398 40.718...  "
      ]
     },
     "execution_count": 15,
     "metadata": {},
     "output_type": "execute_result"
    }
   ],
   "source": [
    "grid.head()"
   ]
  },
  {
   "cell_type": "code",
   "execution_count": 16,
   "metadata": {},
   "outputs": [],
   "source": [
    "grid = grid.merge(grid_scores,left_on='TARGET_FID', right_on='grid_id')"
   ]
  },
  {
   "cell_type": "code",
   "execution_count": 27,
   "metadata": {},
   "outputs": [],
   "source": [
    "grid['imp_percent'] = grid['imp_percent'].fillna(0)"
   ]
  },
  {
   "cell_type": "code",
   "execution_count": 28,
   "metadata": {},
   "outputs": [],
   "source": [
    "grid['green_score'] = grid['green_score'].fillna(0)"
   ]
  },
  {
   "cell_type": "code",
   "execution_count": 30,
   "metadata": {},
   "outputs": [],
   "source": [
    "grid['greenview_index'] = grid['greenview_index'].fillna(0)"
   ]
  },
  {
   "cell_type": "code",
   "execution_count": 32,
   "metadata": {},
   "outputs": [],
   "source": [
    "grid.to_file('grid_1204.geojson',driver='GeoJSON')"
   ]
  },
  {
   "cell_type": "code",
   "execution_count": 33,
   "metadata": {},
   "outputs": [
    {
     "data": {
      "text/html": [
       "<div>\n",
       "<style scoped>\n",
       "    .dataframe tbody tr th:only-of-type {\n",
       "        vertical-align: middle;\n",
       "    }\n",
       "\n",
       "    .dataframe tbody tr th {\n",
       "        vertical-align: top;\n",
       "    }\n",
       "\n",
       "    .dataframe thead th {\n",
       "        text-align: right;\n",
       "    }\n",
       "</style>\n",
       "<table border=\"1\" class=\"dataframe\">\n",
       "  <thead>\n",
       "    <tr style=\"text-align: right;\">\n",
       "      <th></th>\n",
       "      <th>TARGET_FID</th>\n",
       "      <th>Id</th>\n",
       "      <th>Shape_Leng</th>\n",
       "      <th>Shape_Area</th>\n",
       "      <th>GeoID</th>\n",
       "      <th>geometry</th>\n",
       "      <th>grid_id</th>\n",
       "      <th>imp_percent</th>\n",
       "      <th>imp_score</th>\n",
       "      <th>flood_score</th>\n",
       "      <th>green_score</th>\n",
       "      <th>greenview_index</th>\n",
       "      <th>storwater_managed</th>\n",
       "      <th>treecountestimate</th>\n",
       "      <th>overall_score</th>\n",
       "    </tr>\n",
       "  </thead>\n",
       "  <tbody>\n",
       "    <tr>\n",
       "      <th>0</th>\n",
       "      <td>1</td>\n",
       "      <td>0</td>\n",
       "      <td>2530.758569</td>\n",
       "      <td>385934.045109</td>\n",
       "      <td>1.0</td>\n",
       "      <td>POLYGON ((-74.05343 40.76242, -74.05548 40.762...</td>\n",
       "      <td>1</td>\n",
       "      <td>43.007936</td>\n",
       "      <td>4</td>\n",
       "      <td>0</td>\n",
       "      <td>0.0</td>\n",
       "      <td>0.000000</td>\n",
       "      <td>0</td>\n",
       "      <td>0</td>\n",
       "      <td>1.333333</td>\n",
       "    </tr>\n",
       "    <tr>\n",
       "      <th>1</th>\n",
       "      <td>2</td>\n",
       "      <td>0</td>\n",
       "      <td>2655.536428</td>\n",
       "      <td>444097.228757</td>\n",
       "      <td>2.0</td>\n",
       "      <td>POLYGON ((-74.09057 40.73430, -74.09262 40.734...</td>\n",
       "      <td>2</td>\n",
       "      <td>54.205350</td>\n",
       "      <td>3</td>\n",
       "      <td>1</td>\n",
       "      <td>0.0</td>\n",
       "      <td>0.000000</td>\n",
       "      <td>0</td>\n",
       "      <td>0</td>\n",
       "      <td>1.333333</td>\n",
       "    </tr>\n",
       "    <tr>\n",
       "      <th>2</th>\n",
       "      <td>3</td>\n",
       "      <td>0</td>\n",
       "      <td>2721.468967</td>\n",
       "      <td>450465.444325</td>\n",
       "      <td>3.0</td>\n",
       "      <td>POLYGON ((-74.10300 40.71478, -74.10505 40.714...</td>\n",
       "      <td>3</td>\n",
       "      <td>54.068938</td>\n",
       "      <td>3</td>\n",
       "      <td>1</td>\n",
       "      <td>0.0</td>\n",
       "      <td>0.000000</td>\n",
       "      <td>0</td>\n",
       "      <td>0</td>\n",
       "      <td>1.333333</td>\n",
       "    </tr>\n",
       "    <tr>\n",
       "      <th>3</th>\n",
       "      <td>4</td>\n",
       "      <td>0</td>\n",
       "      <td>2721.468310</td>\n",
       "      <td>450465.184524</td>\n",
       "      <td>4.0</td>\n",
       "      <td>POLYGON ((-74.07227 40.70597, -74.07433 40.705...</td>\n",
       "      <td>4</td>\n",
       "      <td>79.203148</td>\n",
       "      <td>2</td>\n",
       "      <td>1</td>\n",
       "      <td>0.0</td>\n",
       "      <td>17.946235</td>\n",
       "      <td>156800</td>\n",
       "      <td>196</td>\n",
       "      <td>1.000000</td>\n",
       "    </tr>\n",
       "    <tr>\n",
       "      <th>4</th>\n",
       "      <td>5</td>\n",
       "      <td>0</td>\n",
       "      <td>2721.468310</td>\n",
       "      <td>450465.184524</td>\n",
       "      <td>5.0</td>\n",
       "      <td>POLYGON ((-74.06193 40.71898, -74.06398 40.718...</td>\n",
       "      <td>5</td>\n",
       "      <td>94.985259</td>\n",
       "      <td>0</td>\n",
       "      <td>1</td>\n",
       "      <td>0.0</td>\n",
       "      <td>0.000000</td>\n",
       "      <td>0</td>\n",
       "      <td>0</td>\n",
       "      <td>0.333333</td>\n",
       "    </tr>\n",
       "  </tbody>\n",
       "</table>\n",
       "</div>"
      ],
      "text/plain": [
       "   TARGET_FID  Id   Shape_Leng     Shape_Area  GeoID  \\\n",
       "0           1   0  2530.758569  385934.045109    1.0   \n",
       "1           2   0  2655.536428  444097.228757    2.0   \n",
       "2           3   0  2721.468967  450465.444325    3.0   \n",
       "3           4   0  2721.468310  450465.184524    4.0   \n",
       "4           5   0  2721.468310  450465.184524    5.0   \n",
       "\n",
       "                                            geometry  grid_id  imp_percent  \\\n",
       "0  POLYGON ((-74.05343 40.76242, -74.05548 40.762...        1    43.007936   \n",
       "1  POLYGON ((-74.09057 40.73430, -74.09262 40.734...        2    54.205350   \n",
       "2  POLYGON ((-74.10300 40.71478, -74.10505 40.714...        3    54.068938   \n",
       "3  POLYGON ((-74.07227 40.70597, -74.07433 40.705...        4    79.203148   \n",
       "4  POLYGON ((-74.06193 40.71898, -74.06398 40.718...        5    94.985259   \n",
       "\n",
       "   imp_score  flood_score  green_score  greenview_index  storwater_managed  \\\n",
       "0          4            0          0.0         0.000000                  0   \n",
       "1          3            1          0.0         0.000000                  0   \n",
       "2          3            1          0.0         0.000000                  0   \n",
       "3          2            1          0.0        17.946235             156800   \n",
       "4          0            1          0.0         0.000000                  0   \n",
       "\n",
       "   treecountestimate  overall_score  \n",
       "0                  0       1.333333  \n",
       "1                  0       1.333333  \n",
       "2                  0       1.333333  \n",
       "3                196       1.000000  \n",
       "4                  0       0.333333  "
      ]
     },
     "execution_count": 33,
     "metadata": {},
     "output_type": "execute_result"
    }
   ],
   "source": [
    "grid.head()"
   ]
  },
  {
   "cell_type": "code",
   "execution_count": 35,
   "metadata": {},
   "outputs": [
    {
     "data": {
      "text/plain": [
       "4.333333333"
      ]
     },
     "execution_count": 35,
     "metadata": {},
     "output_type": "execute_result"
    }
   ],
   "source": [
    "grid.overall_score.max()"
   ]
  },
  {
   "cell_type": "code",
   "execution_count": 36,
   "metadata": {},
   "outputs": [
    {
     "data": {
      "text/plain": [
       "0.0"
      ]
     },
     "execution_count": 36,
     "metadata": {},
     "output_type": "execute_result"
    }
   ],
   "source": [
    "grid.overall_score.min()"
   ]
  },
  {
   "cell_type": "code",
   "execution_count": 38,
   "metadata": {},
   "outputs": [
    {
     "data": {
      "text/plain": [
       "<matplotlib.axes._subplots.AxesSubplot at 0x279d92c9448>"
      ]
     },
     "execution_count": 38,
     "metadata": {},
     "output_type": "execute_result"
    },
    {
     "data": {
      "image/png": "[encoded data removed]",
      "text/plain": [
       "<Figure size 432x288 with 1 Axes>"
      ]
     },
     "metadata": {
      "needs_background": "light"
     },
     "output_type": "display_data"
    }
   ],
   "source": [
    "grid.overall_score.hist()"
   ]
  },
  {
   "cell_type": "code",
   "execution_count": 42,
   "metadata": {},
   "outputs": [
    {
     "data": {
      "text/plain": [
       "<matplotlib.axes._subplots.AxesSubplot at 0x279da9701c8>"
      ]
     },
     "execution_count": 42,
     "metadata": {},
     "output_type": "execute_result"
    },
    {
     "data": {
      "image/png": "[encoded data removed]",
      "text/plain": [
       "<Figure size 432x288 with 1 Axes>"
      ]
     },
     "metadata": {
      "needs_background": "light"
     },
     "output_type": "display_data"
    }
   ],
   "source": [
    "grid.imp_percent.hist()"
   ]
  },
  {
   "cell_type": "code",
   "execution_count": null,
   "metadata": {},
   "outputs": [],
   "source": []
  }
 ],
 "metadata": {
  "kernelspec": {
   "display_name": "Python 3",
   "language": "python",
   "name": "python3"
  },
  "language_info": {
   "codemirror_mode": {
    "name": "ipython",
    "version": 3
   },
   "file_extension": ".py",
   "mimetype": "text/x-python",
   "name": "python",
   "nbconvert_exporter": "python",
   "pygments_lexer": "ipython3",
   "version": "3.7.5"
  }
 },
 "nbformat": 4,
 "nbformat_minor": 2
}
