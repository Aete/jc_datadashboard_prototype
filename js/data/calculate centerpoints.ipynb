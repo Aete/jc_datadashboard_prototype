{
 "cells": [
  {
   "cell_type": "code",
   "execution_count": 1,
   "metadata": {},
   "outputs": [],
   "source": [
    "import pandas as pd\n",
    "import numpy as np\n",
    "import geopandas as gpd\n",
    "\n",
    "\n",
    "import matplotlib.pyplot as plt\n",
    "import seaborn as sns"
   ]
  },
  {
   "cell_type": "code",
   "execution_count": 2,
   "metadata": {},
   "outputs": [],
   "source": [
    "tracts = gpd.read_file('censustract.geojson')[['name','geometry']]"
   ]
  },
  {
   "cell_type": "code",
   "execution_count": 8,
   "metadata": {},
   "outputs": [
    {
     "data": {
      "text/html": [
       "<div>\n",
       "<style scoped>\n",
       "    .dataframe tbody tr th:only-of-type {\n",
       "        vertical-align: middle;\n",
       "    }\n",
       "\n",
       "    .dataframe tbody tr th {\n",
       "        vertical-align: top;\n",
       "    }\n",
       "\n",
       "    .dataframe thead th {\n",
       "        text-align: right;\n",
       "    }\n",
       "</style>\n",
       "<table border=\"1\" class=\"dataframe\">\n",
       "  <thead>\n",
       "    <tr style=\"text-align: right;\">\n",
       "      <th></th>\n",
       "      <th>name</th>\n",
       "      <th>geometry</th>\n",
       "    </tr>\n",
       "  </thead>\n",
       "  <tbody>\n",
       "    <tr>\n",
       "      <th>0</th>\n",
       "      <td>52</td>\n",
       "      <td>[-74.092646 40.711658,  -74.09227300000001 40....</td>\n",
       "    </tr>\n",
       "    <tr>\n",
       "      <th>1</th>\n",
       "      <td>24</td>\n",
       "      <td>[-74.04724400000001 40.724928,  -74.0471650000...</td>\n",
       "    </tr>\n",
       "    <tr>\n",
       "      <th>2</th>\n",
       "      <td>56</td>\n",
       "      <td>[-74.095862 40.708725,  -74.095321 40.709228, ...</td>\n",
       "    </tr>\n",
       "    <tr>\n",
       "      <th>3</th>\n",
       "      <td>9.02</td>\n",
       "      <td>[-74.066463 40.736345,  -74.06640899999999 40....</td>\n",
       "    </tr>\n",
       "    <tr>\n",
       "      <th>4</th>\n",
       "      <td>43</td>\n",
       "      <td>[-74.075661 40.715687,  -74.07482899999999 40....</td>\n",
       "    </tr>\n",
       "    <tr>\n",
       "      <th>...</th>\n",
       "      <td>...</td>\n",
       "      <td>...</td>\n",
       "    </tr>\n",
       "    <tr>\n",
       "      <th>62</th>\n",
       "      <td>72</td>\n",
       "      <td>[-74.053901 40.727592,  -74.053855 40.727714, ...</td>\n",
       "    </tr>\n",
       "    <tr>\n",
       "      <th>63</th>\n",
       "      <td>73</td>\n",
       "      <td>[-74.056088 40.717345,  -74.055685 40.717302, ...</td>\n",
       "    </tr>\n",
       "    <tr>\n",
       "      <th>64</th>\n",
       "      <td>23</td>\n",
       "      <td>[-74.04937200000001 40.722224,  -74.04937 40.7...</td>\n",
       "    </tr>\n",
       "    <tr>\n",
       "      <th>65</th>\n",
       "      <td>10</td>\n",
       "      <td>[-74.06221600000001 40.74581,  -74.062066 40.7...</td>\n",
       "    </tr>\n",
       "    <tr>\n",
       "      <th>66</th>\n",
       "      <td>58.02</td>\n",
       "      <td>[-74.098646 40.682218,  -74.097229 40.683866, ...</td>\n",
       "    </tr>\n",
       "  </tbody>\n",
       "</table>\n",
       "<p>67 rows × 2 columns</p>\n",
       "</div>"
      ],
      "text/plain": [
       "     name                                           geometry\n",
       "0      52  [-74.092646 40.711658,  -74.09227300000001 40....\n",
       "1      24  [-74.04724400000001 40.724928,  -74.0471650000...\n",
       "2      56  [-74.095862 40.708725,  -74.095321 40.709228, ...\n",
       "3    9.02  [-74.066463 40.736345,  -74.06640899999999 40....\n",
       "4      43  [-74.075661 40.715687,  -74.07482899999999 40....\n",
       "..    ...                                                ...\n",
       "62     72  [-74.053901 40.727592,  -74.053855 40.727714, ...\n",
       "63     73  [-74.056088 40.717345,  -74.055685 40.717302, ...\n",
       "64     23  [-74.04937200000001 40.722224,  -74.04937 40.7...\n",
       "65     10  [-74.06221600000001 40.74581,  -74.062066 40.7...\n",
       "66  58.02  [-74.098646 40.682218,  -74.097229 40.683866, ...\n",
       "\n",
       "[67 rows x 2 columns]"
      ]
     },
     "execution_count": 8,
     "metadata": {},
     "output_type": "execute_result"
    }
   ],
   "source": [
    "tracts"
   ]
  },
  {
   "cell_type": "code",
   "execution_count": 3,
   "metadata": {},
   "outputs": [],
   "source": [
    "tracts['geometry'] = tracts['geometry'].astype(str)"
   ]
  },
  {
   "cell_type": "code",
   "execution_count": 4,
   "metadata": {},
   "outputs": [],
   "source": [
    "tracts['geometry'] = tracts['geometry'].str[16:-3]"
   ]
  },
  {
   "cell_type": "code",
   "execution_count": 5,
   "metadata": {},
   "outputs": [],
   "source": [
    "tracts['geometry'] = tracts['geometry'].astype(str)"
   ]
  },
  {
   "cell_type": "code",
   "execution_count": 6,
   "metadata": {},
   "outputs": [],
   "source": [
    "tracts['geometry'] = tracts['geometry'].str.split(',')"
   ]
  },
  {
   "cell_type": "code",
   "execution_count": 7,
   "metadata": {},
   "outputs": [
    {
     "data": {
      "text/plain": [
       "['-74.09227300000001', '40.711896']"
      ]
     },
     "execution_count": 7,
     "metadata": {},
     "output_type": "execute_result"
    }
   ],
   "source": [
    "tracts['geometry'].loc[0][1].split(' ')[1:]"
   ]
  },
  {
   "cell_type": "code",
   "execution_count": 8,
   "metadata": {},
   "outputs": [],
   "source": [
    "def centerpoints_lng(x):\n",
    "    target_ = x.copy()\n",
    "    for i in range(len(x)):\n",
    "        if i == 0:\n",
    "            target_[i] = target_[i].split(' ')\n",
    "        else:\n",
    "            target_[i] = target_[i].split(' ')[1:]\n",
    "    target_ = np.array(target_)\n",
    "    for i in range(len(target_)):\n",
    "        try:\n",
    "            target_[i] = np.array(target_[i]).astype(float)\n",
    "        except:\n",
    "            target_[i] = np.array([np.nan,np.nan])\n",
    "    target_ = target_[:,0].astype(float)\n",
    "    center_lng = (max(target_) + min(target_))/2\n",
    "    return center_lng"
   ]
  },
  {
   "cell_type": "code",
   "execution_count": 9,
   "metadata": {},
   "outputs": [],
   "source": [
    "def centerpoints_lat(x):\n",
    "    target_ = x.copy()\n",
    "    for i in range(len(x)):\n",
    "        if i == 0:\n",
    "            target_[i] = target_[i].split(' ')\n",
    "        else:\n",
    "            target_[i] = target_[i].split(' ')[1:]\n",
    "    target_ = np.array(target_)\n",
    "    for i in range(len(target_)):\n",
    "        try:\n",
    "            target_[i] = np.array(target_[i]).astype(float)\n",
    "        except:\n",
    "            target_[i] = np.array([np.nan,np.nan])\n",
    "    target_ = target_[:,1].astype(float)\n",
    "    center_lng = (max(target_) + min(target_))/2\n",
    "    return center_lng"
   ]
  },
  {
   "cell_type": "code",
   "execution_count": 10,
   "metadata": {},
   "outputs": [],
   "source": [
    "tracts['center_lng'] = tracts['geometry'].apply(lambda x:centerpoints_lng(x))"
   ]
  },
  {
   "cell_type": "code",
   "execution_count": 11,
   "metadata": {},
   "outputs": [],
   "source": [
    "tracts['center_lat'] = tracts['geometry'].apply(lambda x:centerpoints_lat(x))"
   ]
  },
  {
   "cell_type": "code",
   "execution_count": 13,
   "metadata": {},
   "outputs": [],
   "source": [
    "tracts = tracts.drop('geometry',axis=1)"
   ]
  },
  {
   "cell_type": "code",
   "execution_count": 18,
   "metadata": {},
   "outputs": [],
   "source": [
    "tracts = pd.DataFrame(tracts)"
   ]
  },
  {
   "cell_type": "code",
   "execution_count": 26,
   "metadata": {},
   "outputs": [],
   "source": [
    "tracts = tracts.set_index('name')"
   ]
  },
  {
   "cell_type": "code",
   "execution_count": 27,
   "metadata": {},
   "outputs": [
    {
     "data": {
      "text/html": [
       "<div>\n",
       "<style scoped>\n",
       "    .dataframe tbody tr th:only-of-type {\n",
       "        vertical-align: middle;\n",
       "    }\n",
       "\n",
       "    .dataframe tbody tr th {\n",
       "        vertical-align: top;\n",
       "    }\n",
       "\n",
       "    .dataframe thead th {\n",
       "        text-align: right;\n",
       "    }\n",
       "</style>\n",
       "<table border=\"1\" class=\"dataframe\">\n",
       "  <thead>\n",
       "    <tr style=\"text-align: right;\">\n",
       "      <th></th>\n",
       "      <th>center_lng</th>\n",
       "      <th>center_lat</th>\n",
       "    </tr>\n",
       "    <tr>\n",
       "      <th>name</th>\n",
       "      <th></th>\n",
       "      <th></th>\n",
       "    </tr>\n",
       "  </thead>\n",
       "  <tbody>\n",
       "    <tr>\n",
       "      <th>52</th>\n",
       "      <td>-74.085396</td>\n",
       "      <td>40.708846</td>\n",
       "    </tr>\n",
       "    <tr>\n",
       "      <th>24</th>\n",
       "      <td>-74.045277</td>\n",
       "      <td>40.726574</td>\n",
       "    </tr>\n",
       "    <tr>\n",
       "      <th>56</th>\n",
       "      <td>-74.091518</td>\n",
       "      <td>40.705998</td>\n",
       "    </tr>\n",
       "    <tr>\n",
       "      <th>9.02</th>\n",
       "      <td>-74.062474</td>\n",
       "      <td>40.741328</td>\n",
       "    </tr>\n",
       "    <tr>\n",
       "      <th>43</th>\n",
       "      <td>-74.071393</td>\n",
       "      <td>40.716794</td>\n",
       "    </tr>\n",
       "    <tr>\n",
       "      <th>...</th>\n",
       "      <td>...</td>\n",
       "      <td>...</td>\n",
       "    </tr>\n",
       "    <tr>\n",
       "      <th>72</th>\n",
       "      <td>-74.047732</td>\n",
       "      <td>40.728519</td>\n",
       "    </tr>\n",
       "    <tr>\n",
       "      <th>73</th>\n",
       "      <td>-74.047275</td>\n",
       "      <td>40.713518</td>\n",
       "    </tr>\n",
       "    <tr>\n",
       "      <th>23</th>\n",
       "      <td>-74.047693</td>\n",
       "      <td>40.723929</td>\n",
       "    </tr>\n",
       "    <tr>\n",
       "      <th>10</th>\n",
       "      <td>-74.059014</td>\n",
       "      <td>40.744687</td>\n",
       "    </tr>\n",
       "    <tr>\n",
       "      <th>58.02</th>\n",
       "      <td>-74.067245</td>\n",
       "      <td>40.682014</td>\n",
       "    </tr>\n",
       "  </tbody>\n",
       "</table>\n",
       "<p>67 rows × 2 columns</p>\n",
       "</div>"
      ],
      "text/plain": [
       "       center_lng  center_lat\n",
       "name                         \n",
       "52     -74.085396   40.708846\n",
       "24     -74.045277   40.726574\n",
       "56     -74.091518   40.705998\n",
       "9.02   -74.062474   40.741328\n",
       "43     -74.071393   40.716794\n",
       "...           ...         ...\n",
       "72     -74.047732   40.728519\n",
       "73     -74.047275   40.713518\n",
       "23     -74.047693   40.723929\n",
       "10     -74.059014   40.744687\n",
       "58.02  -74.067245   40.682014\n",
       "\n",
       "[67 rows x 2 columns]"
      ]
     },
     "execution_count": 27,
     "metadata": {},
     "output_type": "execute_result"
    }
   ],
   "source": [
    "tracts"
   ]
  },
  {
   "cell_type": "code",
   "execution_count": 28,
   "metadata": {},
   "outputs": [],
   "source": [
    "tracts.to_json('centerpoints.json',orient='index')"
   ]
  },
  {
   "cell_type": "code",
   "execution_count": null,
   "metadata": {},
   "outputs": [],
   "source": []
  }
 ],
 "metadata": {
  "kernelspec": {
   "display_name": "Python 3",
   "language": "python",
   "name": "python3"
  },
  "language_info": {
   "codemirror_mode": {
    "name": "ipython",
    "version": 3
   },
   "file_extension": ".py",
   "mimetype": "text/x-python",
   "name": "python",
   "nbconvert_exporter": "python",
   "pygments_lexer": "ipython3",
   "version": "3.7.5"
  }
 },
 "nbformat": 4,
 "nbformat_minor": 2
}
